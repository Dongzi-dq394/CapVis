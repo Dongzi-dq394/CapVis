{
 "cells": [
  {
   "cell_type": "code",
   "execution_count": 37,
   "metadata": {},
   "outputs": [],
   "source": [
    "from keras.applications.vgg16 import VGG16\n",
    "import numpy as np\n",
    "import matplotlib.pyplot as plt\n",
    "\n",
    "import time"
   ]
  },
  {
   "cell_type": "code",
   "execution_count": 2,
   "metadata": {},
   "outputs": [
    {
     "name": "stdout",
     "output_type": "stream",
     "text": [
      "WARNING:tensorflow:From /Users/qdz/anaconda3/lib/python3.6/site-packages/tensorflow/python/ops/resource_variable_ops.py:435: colocate_with (from tensorflow.python.framework.ops) is deprecated and will be removed in a future version.\n",
      "Instructions for updating:\n",
      "Colocations handled automatically by placer.\n",
      "Model: \"vgg16\"\n",
      "_________________________________________________________________\n",
      "Layer (type)                 Output Shape              Param #   \n",
      "=================================================================\n",
      "input_1 (InputLayer)         (None, 224, 224, 3)       0         \n",
      "_________________________________________________________________\n",
      "block1_conv1 (Conv2D)        (None, 224, 224, 64)      1792      \n",
      "_________________________________________________________________\n",
      "block1_conv2 (Conv2D)        (None, 224, 224, 64)      36928     \n",
      "_________________________________________________________________\n",
      "block1_pool (MaxPooling2D)   (None, 112, 112, 64)      0         \n",
      "_________________________________________________________________\n",
      "block2_conv1 (Conv2D)        (None, 112, 112, 128)     73856     \n",
      "_________________________________________________________________\n",
      "block2_conv2 (Conv2D)        (None, 112, 112, 128)     147584    \n",
      "_________________________________________________________________\n",
      "block2_pool (MaxPooling2D)   (None, 56, 56, 128)       0         \n",
      "_________________________________________________________________\n",
      "block3_conv1 (Conv2D)        (None, 56, 56, 256)       295168    \n",
      "_________________________________________________________________\n",
      "block3_conv2 (Conv2D)        (None, 56, 56, 256)       590080    \n",
      "_________________________________________________________________\n",
      "block3_conv3 (Conv2D)        (None, 56, 56, 256)       590080    \n",
      "_________________________________________________________________\n",
      "block3_pool (MaxPooling2D)   (None, 28, 28, 256)       0         \n",
      "_________________________________________________________________\n",
      "block4_conv1 (Conv2D)        (None, 28, 28, 512)       1180160   \n",
      "_________________________________________________________________\n",
      "block4_conv2 (Conv2D)        (None, 28, 28, 512)       2359808   \n",
      "_________________________________________________________________\n",
      "block4_conv3 (Conv2D)        (None, 28, 28, 512)       2359808   \n",
      "_________________________________________________________________\n",
      "block4_pool (MaxPooling2D)   (None, 14, 14, 512)       0         \n",
      "_________________________________________________________________\n",
      "block5_conv1 (Conv2D)        (None, 14, 14, 512)       2359808   \n",
      "_________________________________________________________________\n",
      "block5_conv2 (Conv2D)        (None, 14, 14, 512)       2359808   \n",
      "_________________________________________________________________\n",
      "block5_conv3 (Conv2D)        (None, 14, 14, 512)       2359808   \n",
      "_________________________________________________________________\n",
      "block5_pool (MaxPooling2D)   (None, 7, 7, 512)         0         \n",
      "_________________________________________________________________\n",
      "flatten (Flatten)            (None, 25088)             0         \n",
      "_________________________________________________________________\n",
      "fc1 (Dense)                  (None, 4096)              102764544 \n",
      "_________________________________________________________________\n",
      "fc2 (Dense)                  (None, 4096)              16781312  \n",
      "_________________________________________________________________\n",
      "predictions (Dense)          (None, 1000)              4097000   \n",
      "=================================================================\n",
      "Total params: 138,357,544\n",
      "Trainable params: 138,357,544\n",
      "Non-trainable params: 0\n",
      "_________________________________________________________________\n"
     ]
    }
   ],
   "source": [
    "model = VGG16()\n",
    "model.summary()"
   ]
  },
  {
   "cell_type": "code",
   "execution_count": 3,
   "metadata": {},
   "outputs": [
    {
     "name": "stdout",
     "output_type": "stream",
     "text": [
      "The num of layers: 23\n"
     ]
    }
   ],
   "source": [
    "print(\"The num of layers: %d\" % (len(model.layers)))"
   ]
  },
  {
   "cell_type": "code",
   "execution_count": 4,
   "metadata": {},
   "outputs": [],
   "source": [
    "from keras.applications.vgg16 import preprocess_input\n",
    "from keras.preprocessing.image import load_img\n",
    "from keras.preprocessing.image import img_to_array\n",
    "from numpy import expand_dims"
   ]
  },
  {
   "cell_type": "code",
   "execution_count": 21,
   "metadata": {},
   "outputs": [],
   "source": [
    "## Change the image name\n",
    "import os\n",
    "\n",
    "relative_path = './Flickr_Data/images/'\n",
    "img_count = 0\n",
    "old_name_list = [] # In order\n",
    "for directory, subdir, files in os.walk(relative_path):\n",
    "    for file in files:\n",
    "        img_count += 1\n",
    "        oldname = relative_path + os.sep + file\n",
    "        newname = relative_path + os.sep + str(img_count) + file[-4:]\n",
    "        old_name_list.append(oldname)\n",
    "        os.rename(oldname, newname)"
   ]
  },
  {
   "cell_type": "code",
   "execution_count": 34,
   "metadata": {},
   "outputs": [
    {
     "name": "stdout",
     "output_type": "stream",
     "text": [
      "8091\n",
      "['./Flickr_Data/images//2387197355_237f6f41ee.jpg', './Flickr_Data/images//2609847254_0ec40c1cce.jpg', './Flickr_Data/images//2046222127_a6f300e202.jpg', './Flickr_Data/images//2853743795_e90ebc669d.jpg', './Flickr_Data/images//2696951725_e0ae54f6da.jpg', './Flickr_Data/images//3421131122_2e4bde661e.jpg', './Flickr_Data/images//3229730008_63f8ca2de2.jpg', './Flickr_Data/images//3220009216_10f088185e.jpg', './Flickr_Data/images//3415578043_03d33e6efd.jpg', './Flickr_Data/images//3437273677_47d4462974.jpg']\n",
      "8091\n"
     ]
    }
   ],
   "source": [
    "print(len(old_name_list))\n",
    "print(old_name_list[:10])\n",
    "print(img_count)"
   ]
  },
  {
   "cell_type": "code",
   "execution_count": 33,
   "metadata": {},
   "outputs": [],
   "source": [
    "def predict_vector(model_using, image_path):\n",
    "    img = load_img(image_path, target_size=(224, 224))\n",
    "    \n",
    "    img = img_to_array(img)\n",
    "    \n",
    "    img = expand_dims(img, axis=0)\n",
    "    \n",
    "    img = preprocess_input(img)\n",
    "    \n",
    "    vector = model.predict(img)\n",
    "    \n",
    "    return vector.reshape(-1)"
   ]
  },
  {
   "cell_type": "code",
   "execution_count": 38,
   "metadata": {
    "collapsed": true
   },
   "outputs": [
    {
     "name": "stdout",
     "output_type": "stream",
     "text": [
      "The 49th image finished!\n",
      "The 99th image finished!\n",
      "The 149th image finished!\n",
      "The 199th image finished!\n",
      "The 249th image finished!\n",
      "The 299th image finished!\n",
      "The 349th image finished!\n",
      "The 399th image finished!\n",
      "The 449th image finished!\n",
      "The 499th image finished!\n",
      "The 549th image finished!\n",
      "The 599th image finished!\n",
      "The 649th image finished!\n",
      "The 699th image finished!\n",
      "The 749th image finished!\n",
      "The 799th image finished!\n",
      "The 849th image finished!\n",
      "The 899th image finished!\n",
      "The 949th image finished!\n",
      "The 999th image finished!\n",
      "The 1049th image finished!\n",
      "The 1099th image finished!\n",
      "The 1149th image finished!\n",
      "The 1199th image finished!\n",
      "The 1249th image finished!\n",
      "The 1299th image finished!\n",
      "The 1349th image finished!\n",
      "The 1399th image finished!\n",
      "The 1449th image finished!\n",
      "The 1499th image finished!\n",
      "The 1549th image finished!\n",
      "The 1599th image finished!\n",
      "The 1649th image finished!\n",
      "The 1699th image finished!\n",
      "The 1749th image finished!\n",
      "The 1799th image finished!\n",
      "The 1849th image finished!\n",
      "The 1899th image finished!\n",
      "The 1949th image finished!\n",
      "The 1999th image finished!\n",
      "The 2049th image finished!\n",
      "The 2099th image finished!\n",
      "The 2149th image finished!\n",
      "The 2199th image finished!\n",
      "The 2249th image finished!\n",
      "The 2299th image finished!\n",
      "The 2349th image finished!\n",
      "The 2399th image finished!\n",
      "The 2449th image finished!\n",
      "The 2499th image finished!\n",
      "The 2549th image finished!\n",
      "The 2599th image finished!\n",
      "The 2649th image finished!\n",
      "The 2699th image finished!\n",
      "The 2749th image finished!\n",
      "The 2799th image finished!\n",
      "The 2849th image finished!\n",
      "The 2899th image finished!\n",
      "The 2949th image finished!\n",
      "The 2999th image finished!\n",
      "The 3049th image finished!\n",
      "The 3099th image finished!\n",
      "The 3149th image finished!\n",
      "The 3199th image finished!\n",
      "The 3249th image finished!\n",
      "The 3299th image finished!\n",
      "The 3349th image finished!\n",
      "The 3399th image finished!\n",
      "The 3449th image finished!\n",
      "The 3499th image finished!\n",
      "The 3549th image finished!\n",
      "The 3599th image finished!\n",
      "The 3649th image finished!\n",
      "The 3699th image finished!\n",
      "The 3749th image finished!\n",
      "The 3799th image finished!\n",
      "The 3849th image finished!\n",
      "The 3899th image finished!\n",
      "The 3949th image finished!\n",
      "The 3999th image finished!\n",
      "The 4049th image finished!\n",
      "The 4099th image finished!\n",
      "The 4149th image finished!\n",
      "The 4199th image finished!\n",
      "The 4249th image finished!\n",
      "The 4299th image finished!\n",
      "The 4349th image finished!\n",
      "The 4399th image finished!\n",
      "The 4449th image finished!\n",
      "The 4499th image finished!\n",
      "The 4549th image finished!\n",
      "The 4599th image finished!\n",
      "The 4649th image finished!\n",
      "The 4699th image finished!\n",
      "The 4749th image finished!\n",
      "The 4799th image finished!\n",
      "The 4849th image finished!\n",
      "The 4899th image finished!\n",
      "The 4949th image finished!\n",
      "The 4999th image finished!\n",
      "The 5049th image finished!\n",
      "The 5099th image finished!\n",
      "The 5149th image finished!\n",
      "The 5199th image finished!\n",
      "The 5249th image finished!\n",
      "The 5299th image finished!\n",
      "The 5349th image finished!\n",
      "The 5399th image finished!\n",
      "The 5449th image finished!\n",
      "The 5499th image finished!\n",
      "The 5549th image finished!\n",
      "The 5599th image finished!\n",
      "The 5649th image finished!\n",
      "The 5699th image finished!\n",
      "The 5749th image finished!\n",
      "The 5799th image finished!\n",
      "The 5849th image finished!\n",
      "The 5899th image finished!\n",
      "The 5949th image finished!\n",
      "The 5999th image finished!\n",
      "The 6049th image finished!\n",
      "The 6099th image finished!\n",
      "The 6149th image finished!\n",
      "The 6199th image finished!\n",
      "The 6249th image finished!\n",
      "The 6299th image finished!\n",
      "The 6349th image finished!\n",
      "The 6399th image finished!\n",
      "The 6449th image finished!\n",
      "The 6499th image finished!\n",
      "The 6549th image finished!\n",
      "The 6599th image finished!\n",
      "The 6649th image finished!\n",
      "The 6699th image finished!\n",
      "The 6749th image finished!\n",
      "The 6799th image finished!\n",
      "The 6849th image finished!\n",
      "The 6899th image finished!\n",
      "The 6949th image finished!\n",
      "The 6999th image finished!\n",
      "The 7049th image finished!\n",
      "The 7099th image finished!\n",
      "The 7149th image finished!\n",
      "The 7199th image finished!\n",
      "The 7249th image finished!\n",
      "The 7299th image finished!\n",
      "The 7349th image finished!\n",
      "The 7399th image finished!\n",
      "The 7449th image finished!\n",
      "The 7499th image finished!\n",
      "The 7549th image finished!\n",
      "The 7599th image finished!\n",
      "The 7649th image finished!\n",
      "The 7699th image finished!\n",
      "The 7749th image finished!\n",
      "The 7799th image finished!\n",
      "The 7849th image finished!\n",
      "The 7899th image finished!\n",
      "The 7949th image finished!\n",
      "The 7999th image finished!\n",
      "The 8049th image finished!\n"
     ]
    }
   ],
   "source": [
    "vector_values = []\n",
    "relative_path = './Flickr_Data/images'\n",
    "start_time = time.time()\n",
    "for i in range(img_count):\n",
    "    input_image = relative_path + '/' + str(i+1) + '.jpg'\n",
    "    vector_values.append(predict_vector(model, input_image))\n",
    "    if (i+1) % 50 == 0:\n",
    "        print(\"The %dth image finished!\" % (i))\n",
    "end_time = time.time()"
   ]
  },
  {
   "cell_type": "code",
   "execution_count": 47,
   "metadata": {},
   "outputs": [
    {
     "name": "stdout",
     "output_type": "stream",
     "text": [
      "The time is: 3841.03s.\n"
     ]
    }
   ],
   "source": [
    "print(\"The time is: %.2fs.\" % (end_time - start_time))"
   ]
  },
  {
   "cell_type": "code",
   "execution_count": 44,
   "metadata": {},
   "outputs": [],
   "source": [
    "vector_values = np.array(vector_values)"
   ]
  },
  {
   "cell_type": "code",
   "execution_count": 82,
   "metadata": {},
   "outputs": [],
   "source": [
    "vector_values[vector_values < 1e-4] = 0"
   ]
  },
  {
   "cell_type": "code",
   "execution_count": 83,
   "metadata": {},
   "outputs": [],
   "source": [
    "# Save this array to the local folder\n",
    "np.savetxt('All_vectors', vector_values)"
   ]
  },
  {
   "cell_type": "code",
   "execution_count": 84,
   "metadata": {},
   "outputs": [
    {
     "name": "stdout",
     "output_type": "stream",
     "text": [
      "The fitting time for 100 clusters is 64.77s.\n"
     ]
    }
   ],
   "source": [
    "from sklearn.cluster import KMeans\n",
    "\n",
    "K = 100\n",
    "estimator = KMeans(n_clusters=K)\n",
    "fit_start = time.time()\n",
    "estimator.fit(vector_values)\n",
    "fit_end = time.time()\n",
    "\n",
    "label_pred = estimator.labels_\n",
    "centroids = estimator.cluster_centers_\n",
    "\n",
    "print(\"The fitting time for %d clusters is %.2fs.\" % (K, fit_end-fit_start))"
   ]
  },
  {
   "cell_type": "code",
   "execution_count": 89,
   "metadata": {},
   "outputs": [],
   "source": [
    "np.savetxt('labels_100', label_pred)\n",
    "np.savetxt('center_100', centroids)"
   ]
  },
  {
   "cell_type": "code",
   "execution_count": 85,
   "metadata": {},
   "outputs": [
    {
     "data": {
      "text/plain": [
       "50"
      ]
     },
     "execution_count": 85,
     "metadata": {},
     "output_type": "execute_result"
    }
   ],
   "source": [
    "estimator.n_iter_"
   ]
  },
  {
   "cell_type": "code",
   "execution_count": 87,
   "metadata": {},
   "outputs": [
    {
     "name": "stdout",
     "output_type": "stream",
     "text": [
      "{19: 3071, 61: 43, 46: 842, 16: 34, 11: 95, 37: 12, 54: 28, 51: 101, 85: 74, 99: 15, 95: 100, 50: 73, 29: 48, 27: 24, 98: 24, 10: 28, 55: 45, 26: 18, 57: 29, 30: 83, 0: 259, 20: 43, 87: 41, 33: 24, 60: 32, 90: 43, 39: 54, 14: 80, 96: 69, 4: 75, 40: 20, 8: 125, 43: 49, 78: 29, 58: 29, 89: 47, 63: 31, 86: 25, 84: 85, 28: 21, 81: 14, 6: 73, 22: 81, 49: 34, 15: 53, 65: 24, 18: 35, 75: 36, 3: 38, 72: 60, 76: 21, 9: 54, 48: 41, 25: 34, 1: 69, 62: 61, 56: 43, 23: 37, 67: 29, 13: 95, 7: 61, 88: 31, 74: 30, 42: 10, 47: 113, 21: 49, 24: 35, 36: 29, 64: 28, 31: 31, 79: 22, 2: 115, 71: 26, 52: 37, 73: 16, 82: 32, 32: 27, 12: 29, 38: 25, 93: 19, 35: 27, 45: 38, 92: 20, 5: 33, 34: 44, 66: 14, 59: 6, 69: 18, 68: 15, 77: 21, 97: 28, 44: 20, 91: 15, 17: 21, 70: 36, 41: 12, 83: 9, 94: 12, 53: 15, 80: 22}\n"
     ]
    }
   ],
   "source": [
    "'''\n",
    "dic = {}\n",
    "for i in range(len(label_pred)):\n",
    "    if label_pred[i] not in dic:\n",
    "        dic[label_pred[i]] = 1\n",
    "    else:\n",
    "        dic[label_pred[i]] += 1\n",
    "print(dic)\n",
    "'''"
   ]
  },
  {
   "cell_type": "code",
   "execution_count": 90,
   "metadata": {},
   "outputs": [],
   "source": [
    "#sorted(dic.items(), key=lambda item:item[1])"
   ]
  },
  {
   "cell_type": "code",
   "execution_count": null,
   "metadata": {},
   "outputs": [],
   "source": []
  }
 ],
 "metadata": {
  "kernelspec": {
   "display_name": "Python 3",
   "language": "python",
   "name": "python3"
  },
  "language_info": {
   "codemirror_mode": {
    "name": "ipython",
    "version": 3
   },
   "file_extension": ".py",
   "mimetype": "text/x-python",
   "name": "python",
   "nbconvert_exporter": "python",
   "pygments_lexer": "ipython3",
   "version": "3.6.8"
  }
 },
 "nbformat": 4,
 "nbformat_minor": 2
}
